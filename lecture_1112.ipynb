{
 "cells": [
  {
   "cell_type": "code",
   "execution_count": 2,
   "metadata": {
    "collapsed": false
   },
   "outputs": [
    {
     "name": "stderr",
     "output_type": "stream",
     "text": [
      "Warning message:\n",
      "\"package 'mclust' was built under R version 3.3.2\"Package 'mclust' version 5.2\n",
      "Type 'citation(\"mclust\")' for citing this R package in publications.\n"
     ]
    },
    {
     "data": {
      "text/html": [
       "<dl class=dl-horizontal>\n",
       "\t<dt>Alabama</dt>\n",
       "\t\t<dd>1</dd>\n",
       "\t<dt>Alaska</dt>\n",
       "\t\t<dd>2</dd>\n",
       "\t<dt>Arizona</dt>\n",
       "\t\t<dd>2</dd>\n",
       "\t<dt>Arkansas</dt>\n",
       "\t\t<dd>3</dd>\n",
       "\t<dt>California</dt>\n",
       "\t\t<dd>2</dd>\n",
       "\t<dt>Colorado</dt>\n",
       "\t\t<dd>2</dd>\n",
       "\t<dt>Connecticut</dt>\n",
       "\t\t<dd>4</dd>\n",
       "\t<dt>Delaware</dt>\n",
       "\t\t<dd>3</dd>\n",
       "\t<dt>Florida</dt>\n",
       "\t\t<dd>1</dd>\n",
       "\t<dt>Georgia</dt>\n",
       "\t\t<dd>1</dd>\n",
       "\t<dt>Hawaii</dt>\n",
       "\t\t<dd>3</dd>\n",
       "\t<dt>Idaho</dt>\n",
       "\t\t<dd>4</dd>\n",
       "\t<dt>Illinois</dt>\n",
       "\t\t<dd>1</dd>\n",
       "\t<dt>Indiana</dt>\n",
       "\t\t<dd>3</dd>\n",
       "\t<dt>Iowa</dt>\n",
       "\t\t<dd>4</dd>\n",
       "\t<dt>Kansas</dt>\n",
       "\t\t<dd>3</dd>\n",
       "\t<dt>Kentucky</dt>\n",
       "\t\t<dd>3</dd>\n",
       "\t<dt>Louisiana</dt>\n",
       "\t\t<dd>1</dd>\n",
       "\t<dt>Maine</dt>\n",
       "\t\t<dd>4</dd>\n",
       "\t<dt>Maryland</dt>\n",
       "\t\t<dd>1</dd>\n",
       "\t<dt>Massachusetts</dt>\n",
       "\t\t<dd>3</dd>\n",
       "\t<dt>Michigan</dt>\n",
       "\t\t<dd>2</dd>\n",
       "\t<dt>Minnesota</dt>\n",
       "\t\t<dd>4</dd>\n",
       "\t<dt>Mississippi</dt>\n",
       "\t\t<dd>1</dd>\n",
       "\t<dt>Missouri</dt>\n",
       "\t\t<dd>3</dd>\n",
       "\t<dt>Montana</dt>\n",
       "\t\t<dd>3</dd>\n",
       "\t<dt>Nebraska</dt>\n",
       "\t\t<dd>3</dd>\n",
       "\t<dt>Nevada</dt>\n",
       "\t\t<dd>2</dd>\n",
       "\t<dt>New Hampshire</dt>\n",
       "\t\t<dd>4</dd>\n",
       "\t<dt>New Jersey</dt>\n",
       "\t\t<dd>3</dd>\n",
       "\t<dt>New Mexico</dt>\n",
       "\t\t<dd>2</dd>\n",
       "\t<dt>New York</dt>\n",
       "\t\t<dd>1</dd>\n",
       "\t<dt>North Carolina</dt>\n",
       "\t\t<dd>1</dd>\n",
       "\t<dt>North Dakota</dt>\n",
       "\t\t<dd>4</dd>\n",
       "\t<dt>Ohio</dt>\n",
       "\t\t<dd>3</dd>\n",
       "\t<dt>Oklahoma</dt>\n",
       "\t\t<dd>3</dd>\n",
       "\t<dt>Oregon</dt>\n",
       "\t\t<dd>3</dd>\n",
       "\t<dt>Pennsylvania</dt>\n",
       "\t\t<dd>3</dd>\n",
       "\t<dt>Rhode Island</dt>\n",
       "\t\t<dd>3</dd>\n",
       "\t<dt>South Carolina</dt>\n",
       "\t\t<dd>1</dd>\n",
       "\t<dt>South Dakota</dt>\n",
       "\t\t<dd>4</dd>\n",
       "\t<dt>Tennessee</dt>\n",
       "\t\t<dd>1</dd>\n",
       "\t<dt>Texas</dt>\n",
       "\t\t<dd>1</dd>\n",
       "\t<dt>Utah</dt>\n",
       "\t\t<dd>3</dd>\n",
       "\t<dt>Vermont</dt>\n",
       "\t\t<dd>4</dd>\n",
       "\t<dt>Virginia</dt>\n",
       "\t\t<dd>3</dd>\n",
       "\t<dt>Washington</dt>\n",
       "\t\t<dd>3</dd>\n",
       "\t<dt>West Virginia</dt>\n",
       "\t\t<dd>4</dd>\n",
       "\t<dt>Wisconsin</dt>\n",
       "\t\t<dd>4</dd>\n",
       "\t<dt>Wyoming</dt>\n",
       "\t\t<dd>3</dd>\n",
       "</dl>\n"
      ],
      "text/latex": [
       "\\begin{description*}\n",
       "\\item[Alabama] 1\n",
       "\\item[Alaska] 2\n",
       "\\item[Arizona] 2\n",
       "\\item[Arkansas] 3\n",
       "\\item[California] 2\n",
       "\\item[Colorado] 2\n",
       "\\item[Connecticut] 4\n",
       "\\item[Delaware] 3\n",
       "\\item[Florida] 1\n",
       "\\item[Georgia] 1\n",
       "\\item[Hawaii] 3\n",
       "\\item[Idaho] 4\n",
       "\\item[Illinois] 1\n",
       "\\item[Indiana] 3\n",
       "\\item[Iowa] 4\n",
       "\\item[Kansas] 3\n",
       "\\item[Kentucky] 3\n",
       "\\item[Louisiana] 1\n",
       "\\item[Maine] 4\n",
       "\\item[Maryland] 1\n",
       "\\item[Massachusetts] 3\n",
       "\\item[Michigan] 2\n",
       "\\item[Minnesota] 4\n",
       "\\item[Mississippi] 1\n",
       "\\item[Missouri] 3\n",
       "\\item[Montana] 3\n",
       "\\item[Nebraska] 3\n",
       "\\item[Nevada] 2\n",
       "\\item[New Hampshire] 4\n",
       "\\item[New Jersey] 3\n",
       "\\item[New Mexico] 2\n",
       "\\item[New York] 1\n",
       "\\item[North Carolina] 1\n",
       "\\item[North Dakota] 4\n",
       "\\item[Ohio] 3\n",
       "\\item[Oklahoma] 3\n",
       "\\item[Oregon] 3\n",
       "\\item[Pennsylvania] 3\n",
       "\\item[Rhode Island] 3\n",
       "\\item[South Carolina] 1\n",
       "\\item[South Dakota] 4\n",
       "\\item[Tennessee] 1\n",
       "\\item[Texas] 1\n",
       "\\item[Utah] 3\n",
       "\\item[Vermont] 4\n",
       "\\item[Virginia] 3\n",
       "\\item[Washington] 3\n",
       "\\item[West Virginia] 4\n",
       "\\item[Wisconsin] 4\n",
       "\\item[Wyoming] 3\n",
       "\\end{description*}\n"
      ],
      "text/markdown": [
       "Alabama\n",
       ":   1Alaska\n",
       ":   2Arizona\n",
       ":   2Arkansas\n",
       ":   3California\n",
       ":   2Colorado\n",
       ":   2Connecticut\n",
       ":   4Delaware\n",
       ":   3Florida\n",
       ":   1Georgia\n",
       ":   1Hawaii\n",
       ":   3Idaho\n",
       ":   4Illinois\n",
       ":   1Indiana\n",
       ":   3Iowa\n",
       ":   4Kansas\n",
       ":   3Kentucky\n",
       ":   3Louisiana\n",
       ":   1Maine\n",
       ":   4Maryland\n",
       ":   1Massachusetts\n",
       ":   3Michigan\n",
       ":   2Minnesota\n",
       ":   4Mississippi\n",
       ":   1Missouri\n",
       ":   3Montana\n",
       ":   3Nebraska\n",
       ":   3Nevada\n",
       ":   2New Hampshire\n",
       ":   4New Jersey\n",
       ":   3New Mexico\n",
       ":   2New York\n",
       ":   1North Carolina\n",
       ":   1North Dakota\n",
       ":   4Ohio\n",
       ":   3Oklahoma\n",
       ":   3Oregon\n",
       ":   3Pennsylvania\n",
       ":   3Rhode Island\n",
       ":   3South Carolina\n",
       ":   1South Dakota\n",
       ":   4Tennessee\n",
       ":   1Texas\n",
       ":   1Utah\n",
       ":   3Vermont\n",
       ":   4Virginia\n",
       ":   3Washington\n",
       ":   3West Virginia\n",
       ":   4Wisconsin\n",
       ":   4Wyoming\n",
       ":   3\n",
       "\n"
      ],
      "text/plain": [
       "       Alabama         Alaska        Arizona       Arkansas     California \n",
       "             1              2              2              3              2 \n",
       "      Colorado    Connecticut       Delaware        Florida        Georgia \n",
       "             2              4              3              1              1 \n",
       "        Hawaii          Idaho       Illinois        Indiana           Iowa \n",
       "             3              4              1              3              4 \n",
       "        Kansas       Kentucky      Louisiana          Maine       Maryland \n",
       "             3              3              1              4              1 \n",
       " Massachusetts       Michigan      Minnesota    Mississippi       Missouri \n",
       "             3              2              4              1              3 \n",
       "       Montana       Nebraska         Nevada  New Hampshire     New Jersey \n",
       "             3              3              2              4              3 \n",
       "    New Mexico       New York North Carolina   North Dakota           Ohio \n",
       "             2              1              1              4              3 \n",
       "      Oklahoma         Oregon   Pennsylvania   Rhode Island South Carolina \n",
       "             3              3              3              3              1 \n",
       "  South Dakota      Tennessee          Texas           Utah        Vermont \n",
       "             4              1              1              3              4 \n",
       "      Virginia     Washington  West Virginia      Wisconsin        Wyoming \n",
       "             3              3              4              4              3 "
      ]
     },
     "metadata": {},
     "output_type": "display_data"
    }
   ],
   "source": [
    "library(mclust)\n",
    "mc=Mclust(USArrests,4)\n",
    "mc$classification"
   ]
  },
  {
   "cell_type": "code",
   "execution_count": 3,
   "metadata": {
    "collapsed": false
   },
   "outputs": [
    {
     "data": {
      "image/png": "[encoded data removed]",
      "text/plain": [
       "Plot with title \"Rape\""
      ]
     },
     "metadata": {},
     "output_type": "display_data"
    }
   ],
   "source": [
    "par(mfrow=c(2,2))\n",
    "for (i in 1:4){\n",
    "  boxplot(USArrests[,i]~mc$classification,main=names(USArrests)[i])\n",
    "}"
   ]
  },
  {
   "cell_type": "code",
   "execution_count": 4,
   "metadata": {
    "collapsed": false
   },
   "outputs": [
    {
     "data": {
      "image/png": "[encoded data removed]",
      "text/plain": [
       "plot without title"
      ]
     },
     "metadata": {},
     "output_type": "display_data"
    }
   ],
   "source": [
    "par(mfrow=c(3,1))\n",
    "for (i in 1:3){\n",
    "  USArrests_s=as.data.frame(scale(USArrests))\n",
    "  boxplot(USArrests_s[mc$classification==i,])\n",
    "}"
   ]
  },
  {
   "cell_type": "code",
   "execution_count": 5,
   "metadata": {
    "collapsed": false
   },
   "outputs": [
    {
     "name": "stderr",
     "output_type": "stream",
     "text": [
      "Warning message:\n",
      "\"package 'psych' was built under R version 3.3.2\"\n",
      "Attaching package: 'psych'\n",
      "\n",
      "The following object is masked from 'package:mclust':\n",
      "\n",
      "    sim\n",
      "\n"
     ]
    }
   ],
   "source": [
    "library(psych)\n",
    "result=describeBy(USArrests[,1],group=mc$classification,mat=T)"
   ]
  },
  {
   "cell_type": "code",
   "execution_count": 11,
   "metadata": {
    "collapsed": false
   },
   "outputs": [
    {
     "data": {
      "text/html": [
       "<table>\n",
       "<thead><tr><th></th><th scope=col>item</th><th scope=col>group1</th><th scope=col>vars</th><th scope=col>n</th><th scope=col>mean</th><th scope=col>sd</th><th scope=col>median</th><th scope=col>trimmed</th><th scope=col>mad</th><th scope=col>min</th><th scope=col>max</th><th scope=col>range</th><th scope=col>skew</th><th scope=col>kurtosis</th><th scope=col>se</th></tr></thead>\n",
       "<tbody>\n",
       "\t<tr><th scope=row>X11</th><td>1          </td><td>1          </td><td>1          </td><td>12         </td><td>13.633333  </td><td>2.154629   </td><td>13.20      </td><td>13.580000  </td><td>2.96520    </td><td>10.4       </td><td>17.4       </td><td>7.0        </td><td> 0.13273824</td><td>-1.3015688 </td><td>0.6219877  </td></tr>\n",
       "\t<tr><th scope=row>X12</th><td>2          </td><td>2          </td><td>1          </td><td> 7         </td><td>10.100000  </td><td>1.833030   </td><td>10.00      </td><td>10.100000  </td><td>2.81694    </td><td> 7.9       </td><td>12.2       </td><td>4.3        </td><td>-0.01210775</td><td>-1.9978893 </td><td>0.6928203  </td></tr>\n",
       "\t<tr><th scope=row>X13</th><td>3          </td><td>3          </td><td>1          </td><td>20         </td><td> 6.250000  </td><td>1.884424   </td><td> 6.15      </td><td> 6.231250  </td><td>1.85325    </td><td> 3.2       </td><td> 9.7       </td><td>6.5        </td><td> 0.10107316</td><td>-1.1001959 </td><td>0.4213699  </td></tr>\n",
       "\t<tr><th scope=row>X14</th><td>4          </td><td>4          </td><td>1          </td><td>11         </td><td> 2.736364  </td><td>1.241187   </td><td> 2.60      </td><td> 2.622222  </td><td>0.74130    </td><td> 0.8       </td><td> 5.7       </td><td>4.9        </td><td> 0.91868644</td><td> 0.5653512 </td><td>0.3742320  </td></tr>\n",
       "</tbody>\n",
       "</table>\n"
      ],
      "text/latex": [
       "\\begin{tabular}{r|lllllllllllllll}\n",
       "  & item & group1 & vars & n & mean & sd & median & trimmed & mad & min & max & range & skew & kurtosis & se\\\\\n",
       "\\hline\n",
       "\tX11 & 1           & 1           & 1           & 12          & 13.633333   & 2.154629    & 13.20       & 13.580000   & 2.96520     & 10.4        & 17.4        & 7.0         &  0.13273824 & -1.3015688  & 0.6219877  \\\\\n",
       "\tX12 & 2           & 2           & 1           &  7          & 10.100000   & 1.833030    & 10.00       & 10.100000   & 2.81694     &  7.9        & 12.2        & 4.3         & -0.01210775 & -1.9978893  & 0.6928203  \\\\\n",
       "\tX13 & 3           & 3           & 1           & 20          &  6.250000   & 1.884424    &  6.15       &  6.231250   & 1.85325     &  3.2        &  9.7        & 6.5         &  0.10107316 & -1.1001959  & 0.4213699  \\\\\n",
       "\tX14 & 4           & 4           & 1           & 11          &  2.736364   & 1.241187    &  2.60       &  2.622222   & 0.74130     &  0.8        &  5.7        & 4.9         &  0.91868644 &  0.5653512  & 0.3742320  \\\\\n",
       "\\end{tabular}\n"
      ],
      "text/plain": [
       "    item group1 vars n  mean      sd       median trimmed   mad     min  max \n",
       "X11 1    1      1    12 13.633333 2.154629 13.20  13.580000 2.96520 10.4 17.4\n",
       "X12 2    2      1     7 10.100000 1.833030 10.00  10.100000 2.81694  7.9 12.2\n",
       "X13 3    3      1    20  6.250000 1.884424  6.15   6.231250 1.85325  3.2  9.7\n",
       "X14 4    4      1    11  2.736364 1.241187  2.60   2.622222 0.74130  0.8  5.7\n",
       "    range skew        kurtosis   se       \n",
       "X11 7.0    0.13273824 -1.3015688 0.6219877\n",
       "X12 4.3   -0.01210775 -1.9978893 0.6928203\n",
       "X13 6.5    0.10107316 -1.1001959 0.4213699\n",
       "X14 4.9    0.91868644  0.5653512 0.3742320"
      ]
     },
     "metadata": {},
     "output_type": "display_data"
    }
   ],
   "source": [
    "result"
   ]
  },
  {
   "cell_type": "code",
   "execution_count": 6,
   "metadata": {
    "collapsed": false
   },
   "outputs": [
    {
     "name": "stderr",
     "output_type": "stream",
     "text": [
      "Warning message:\n",
      "\"package 'ggplot2' was built under R version 3.3.2\"\n",
      "Attaching package: 'ggplot2'\n",
      "\n",
      "The following objects are masked from 'package:psych':\n",
      "\n",
      "    %+%, alpha\n",
      "\n"
     ]
    },
    {
     "data": {},
     "metadata": {},
     "output_type": "display_data"
    },
    {
     "data": {
      "image/png": "[encoded data removed]",
      "text/plain": [
       "plot without title"
      ]
     },
     "metadata": {},
     "output_type": "display_data"
    }
   ],
   "source": [
    "library(ggplot2)\n",
    "ggplot(result,aes(x=group1,y=mean,fill=group1))+\n",
    "  geom_bar(position=position_dodge() ,stat=\"identity\")+\n",
    "  geom_errorbar(aes(ymin=mean-2*se, ymax=mean+2*se),width=0.1)"
   ]
  },
  {
   "cell_type": "code",
   "execution_count": 7,
   "metadata": {
    "collapsed": false
   },
   "outputs": [
    {
     "data": {
      "text/plain": [
       "                          Df Sum Sq Mean Sq F value Pr(>F)    \n",
       "factor(mc$classification)  3  775.5  258.48   77.16 <2e-16 ***\n",
       "Residuals                 46  154.1    3.35                   \n",
       "---\n",
       "Signif. codes:  0 '***' 0.001 '**' 0.01 '*' 0.05 '.' 0.1 ' ' 1"
      ]
     },
     "metadata": {},
     "output_type": "display_data"
    },
    {
     "data": {
      "text/plain": [
       "  Tukey multiple comparisons of means\n",
       "    95% family-wise confidence level\n",
       "\n",
       "Fit: aov(formula = USArrests$Murder ~ factor(mc$classification))\n",
       "\n",
       "$`factor(mc$classification)`\n",
       "          diff        lwr       upr     p adj\n",
       "2-1  -3.533333  -5.853615 -1.213052 0.0010537\n",
       "3-1  -7.383333  -9.164780 -5.601887 0.0000000\n",
       "4-1 -10.896970 -12.933451 -8.860488 0.0000000\n",
       "3-2  -3.850000  -5.992502 -1.707498 0.0001019\n",
       "4-2  -7.363636  -9.722454 -5.004819 0.0000000\n",
       "4-3  -3.513636  -5.344993 -1.682280 0.0000347\n"
      ]
     },
     "metadata": {},
     "output_type": "display_data"
    }
   ],
   "source": [
    "model=aov(USArrests$Murder~factor(mc$classification))\n",
    "summary(model)\n",
    "TukeyHSD(model)"
   ]
  },
  {
   "cell_type": "markdown",
   "metadata": {},
   "source": [
    "###"
   ]
  },
  {
   "cell_type": "code",
   "execution_count": 8,
   "metadata": {
    "collapsed": true
   },
   "outputs": [],
   "source": [
    "jet=read.csv(\"jet.csv\")"
   ]
  },
  {
   "cell_type": "code",
   "execution_count": 9,
   "metadata": {
    "collapsed": false
   },
   "outputs": [
    {
     "data": {
      "text/plain": [
       "----------------------------------------------------\n",
       "Gaussian finite mixture model fitted by EM algorithm \n",
       "----------------------------------------------------\n",
       "\n",
       "Mclust EEI (diagonal, equal volume and shape) model with 2 components:\n",
       "\n",
       " log.likelihood  n df       BIC       ICL\n",
       "      -156.4029 22 13 -352.9894 -353.9347\n",
       "\n",
       "Clustering table:\n",
       " 1  2 \n",
       "15  7 "
      ]
     },
     "metadata": {},
     "output_type": "display_data"
    }
   ],
   "source": [
    "mc2=Mclust(jet[,2:5],2)\n",
    "summary(mc2)"
   ]
  },
  {
   "cell_type": "code",
   "execution_count": 10,
   "metadata": {
    "collapsed": false
   },
   "outputs": [
    {
     "data": {
      "text/plain": [
       "----------------------------------------------------\n",
       "Gaussian finite mixture model fitted by EM algorithm \n",
       "----------------------------------------------------\n",
       "\n",
       "Mclust EVI (diagonal, equal volume, varying shape) model with 3 components:\n",
       "\n",
       " log.likelihood  n df       BIC       ICL\n",
       "      -139.3663 22 24 -352.9176 -352.9397\n",
       "\n",
       "Clustering table:\n",
       " 1  2  3 \n",
       " 9 11  2 "
      ]
     },
     "metadata": {},
     "output_type": "display_data"
    }
   ],
   "source": [
    "mc3=Mclust(jet[,2:5],3)\n",
    "summary(mc3)"
   ]
  },
  {
   "cell_type": "code",
   "execution_count": null,
   "metadata": {
    "collapsed": true
   },
   "outputs": [],
   "source": []
  }
 ],
 "metadata": {
  "kernelspec": {
   "display_name": "R 3.3",
   "language": "R",
   "name": "ir33"
  },
  "language_info": {
   "codemirror_mode": "r",
   "file_extension": ".r",
   "mimetype": "text/x-r-source",
   "name": "R",
   "pygments_lexer": "r",
   "version": "3.3.1"
  }
 },
 "nbformat": 4,
 "nbformat_minor": 0
}
