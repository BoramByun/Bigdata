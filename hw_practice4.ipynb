{
 "cells": [
  {
   "cell_type": "code",
   "execution_count": 1,
   "metadata": {
    "collapsed": true
   },
   "outputs": [],
   "source": [
    "jet <- read.csv(\"jet.csv\")"
   ]
  },
  {
   "cell_type": "markdown",
   "metadata": {},
   "source": [
    "# 1. 계층적 군집분석"
   ]
  },
  {
   "cell_type": "markdown",
   "metadata": {},
   "source": [
    "### A. A.\tFFD와 CAR를 제외한 변수를 표준화 한 후 \n",
    "### 계층적 군집화를 시행하고 덴드로그램을 그리시오."
   ]
  },
  {
   "cell_type": "code",
   "execution_count": 2,
   "metadata": {
    "collapsed": false
   },
   "outputs": [
    {
     "data": {
      "text/html": [
       "<table>\n",
       "<thead><tr><th scope=col>X</th><th scope=col>FFD</th><th scope=col>SPR</th><th scope=col>RGF</th><th scope=col>PLF</th><th scope=col>SLF</th><th scope=col>CAR</th></tr></thead>\n",
       "<tbody>\n",
       "\t<tr><td>FH-1   </td><td> 82    </td><td>1.468  </td><td>3.30   </td><td>0.166  </td><td>0.10   </td><td>no     </td></tr>\n",
       "\t<tr><td>FJ-1   </td><td> 89    </td><td>1.605  </td><td>3.64   </td><td>0.154  </td><td>0.10   </td><td>no     </td></tr>\n",
       "\t<tr><td>F-86A  </td><td>101    </td><td>2.168  </td><td>4.87   </td><td>0.177  </td><td>2.90   </td><td>yes    </td></tr>\n",
       "\t<tr><td>F9F-2  </td><td>107    </td><td>2.054  </td><td>4.72   </td><td>0.275  </td><td>1.10   </td><td>no     </td></tr>\n",
       "\t<tr><td>F-94A  </td><td>115    </td><td>2.467  </td><td>4.11   </td><td>0.298  </td><td>1.00   </td><td>yes    </td></tr>\n",
       "\t<tr><td>F3D-1  </td><td>122    </td><td>1.294  </td><td>3.75   </td><td>0.150  </td><td>0.90   </td><td>no     </td></tr>\n",
       "\t<tr><td>F-89A  </td><td>127    </td><td>2.183  </td><td>3.97   </td><td>0.000  </td><td>2.40   </td><td>yes    </td></tr>\n",
       "\t<tr><td>XF10F-1</td><td>137    </td><td>2.426  </td><td>4.65   </td><td>0.117  </td><td>1.80   </td><td>no     </td></tr>\n",
       "\t<tr><td>F9F-6  </td><td>147    </td><td>2.607  </td><td>3.84   </td><td>0.155  </td><td>2.30   </td><td>no     </td></tr>\n",
       "\t<tr><td>F-100A </td><td>166    </td><td>4.567  </td><td>4.92   </td><td>0.138  </td><td>3.20   </td><td>yes    </td></tr>\n",
       "\t<tr><td>F4D-1  </td><td>174    </td><td>4.588  </td><td>3.82   </td><td>0.249  </td><td>3.50   </td><td>no     </td></tr>\n",
       "\t<tr><td>F11F-1 </td><td>175    </td><td>3.618  </td><td>4.32   </td><td>0.143  </td><td>2.80   </td><td>no     </td></tr>\n",
       "\t<tr><td>F-101A </td><td>177    </td><td>5.855  </td><td>4.53   </td><td>0.172  </td><td>2.50   </td><td>yes    </td></tr>\n",
       "\t<tr><td>F3H-2  </td><td>184    </td><td>2.898  </td><td>4.48   </td><td>0.178  </td><td>3.00   </td><td>no     </td></tr>\n",
       "\t<tr><td>F-102A </td><td>187    </td><td>3.880  </td><td>5.39   </td><td>0.101  </td><td>3.00   </td><td>yes    </td></tr>\n",
       "\t<tr><td>F-8A   </td><td>189    </td><td>0.455  </td><td>4.99   </td><td>0.008  </td><td>2.64   </td><td>no     </td></tr>\n",
       "\t<tr><td>F-104B </td><td>194    </td><td>8.088  </td><td>4.50   </td><td>0.251  </td><td>2.70   </td><td>yes    </td></tr>\n",
       "\t<tr><td>F-105B </td><td>197    </td><td>6.502  </td><td>5.20   </td><td>0.366  </td><td>2.90   </td><td>yes    </td></tr>\n",
       "\t<tr><td>YF-107A</td><td>201    </td><td>6.081  </td><td>5.65   </td><td>0.106  </td><td>2.90   </td><td>yes    </td></tr>\n",
       "\t<tr><td>F-106A </td><td>204    </td><td>7.105  </td><td>5.40   </td><td>0.089  </td><td>3.20   </td><td>yes    </td></tr>\n",
       "\t<tr><td>F-4B   </td><td>255    </td><td>8.548  </td><td>4.20   </td><td>0.222  </td><td>2.90   </td><td>no     </td></tr>\n",
       "\t<tr><td>F-111A </td><td>328    </td><td>6.321  </td><td>6.45   </td><td>0.187  </td><td>2.00   </td><td>yes    </td></tr>\n",
       "</tbody>\n",
       "</table>\n"
      ],
      "text/latex": [
       "\\begin{tabular}{r|lllllll}\n",
       " X & FFD & SPR & RGF & PLF & SLF & CAR\\\\\n",
       "\\hline\n",
       "\t FH-1    &  82     & 1.468   & 3.30    & 0.166   & 0.10    & no     \\\\\n",
       "\t FJ-1    &  89     & 1.605   & 3.64    & 0.154   & 0.10    & no     \\\\\n",
       "\t F-86A   & 101     & 2.168   & 4.87    & 0.177   & 2.90    & yes    \\\\\n",
       "\t F9F-2   & 107     & 2.054   & 4.72    & 0.275   & 1.10    & no     \\\\\n",
       "\t F-94A   & 115     & 2.467   & 4.11    & 0.298   & 1.00    & yes    \\\\\n",
       "\t F3D-1   & 122     & 1.294   & 3.75    & 0.150   & 0.90    & no     \\\\\n",
       "\t F-89A   & 127     & 2.183   & 3.97    & 0.000   & 2.40    & yes    \\\\\n",
       "\t XF10F-1 & 137     & 2.426   & 4.65    & 0.117   & 1.80    & no     \\\\\n",
       "\t F9F-6   & 147     & 2.607   & 3.84    & 0.155   & 2.30    & no     \\\\\n",
       "\t F-100A  & 166     & 4.567   & 4.92    & 0.138   & 3.20    & yes    \\\\\n",
       "\t F4D-1   & 174     & 4.588   & 3.82    & 0.249   & 3.50    & no     \\\\\n",
       "\t F11F-1  & 175     & 3.618   & 4.32    & 0.143   & 2.80    & no     \\\\\n",
       "\t F-101A  & 177     & 5.855   & 4.53    & 0.172   & 2.50    & yes    \\\\\n",
       "\t F3H-2   & 184     & 2.898   & 4.48    & 0.178   & 3.00    & no     \\\\\n",
       "\t F-102A  & 187     & 3.880   & 5.39    & 0.101   & 3.00    & yes    \\\\\n",
       "\t F-8A    & 189     & 0.455   & 4.99    & 0.008   & 2.64    & no     \\\\\n",
       "\t F-104B  & 194     & 8.088   & 4.50    & 0.251   & 2.70    & yes    \\\\\n",
       "\t F-105B  & 197     & 6.502   & 5.20    & 0.366   & 2.90    & yes    \\\\\n",
       "\t YF-107A & 201     & 6.081   & 5.65    & 0.106   & 2.90    & yes    \\\\\n",
       "\t F-106A  & 204     & 7.105   & 5.40    & 0.089   & 3.20    & yes    \\\\\n",
       "\t F-4B    & 255     & 8.548   & 4.20    & 0.222   & 2.90    & no     \\\\\n",
       "\t F-111A  & 328     & 6.321   & 6.45    & 0.187   & 2.00    & yes    \\\\\n",
       "\\end{tabular}\n"
      ],
      "text/plain": [
       "   X       FFD SPR   RGF  PLF   SLF  CAR\n",
       "1  FH-1     82 1.468 3.30 0.166 0.10 no \n",
       "2  FJ-1     89 1.605 3.64 0.154 0.10 no \n",
       "3  F-86A   101 2.168 4.87 0.177 2.90 yes\n",
       "4  F9F-2   107 2.054 4.72 0.275 1.10 no \n",
       "5  F-94A   115 2.467 4.11 0.298 1.00 yes\n",
       "6  F3D-1   122 1.294 3.75 0.150 0.90 no \n",
       "7  F-89A   127 2.183 3.97 0.000 2.40 yes\n",
       "8  XF10F-1 137 2.426 4.65 0.117 1.80 no \n",
       "9  F9F-6   147 2.607 3.84 0.155 2.30 no \n",
       "10 F-100A  166 4.567 4.92 0.138 3.20 yes\n",
       "11 F4D-1   174 4.588 3.82 0.249 3.50 no \n",
       "12 F11F-1  175 3.618 4.32 0.143 2.80 no \n",
       "13 F-101A  177 5.855 4.53 0.172 2.50 yes\n",
       "14 F3H-2   184 2.898 4.48 0.178 3.00 no \n",
       "15 F-102A  187 3.880 5.39 0.101 3.00 yes\n",
       "16 F-8A    189 0.455 4.99 0.008 2.64 no \n",
       "17 F-104B  194 8.088 4.50 0.251 2.70 yes\n",
       "18 F-105B  197 6.502 5.20 0.366 2.90 yes\n",
       "19 YF-107A 201 6.081 5.65 0.106 2.90 yes\n",
       "20 F-106A  204 7.105 5.40 0.089 3.20 yes\n",
       "21 F-4B    255 8.548 4.20 0.222 2.90 no \n",
       "22 F-111A  328 6.321 6.45 0.187 2.00 yes"
      ]
     },
     "metadata": {},
     "output_type": "display_data"
    }
   ],
   "source": [
    "jet"
   ]
  },
  {
   "cell_type": "code",
   "execution_count": 3,
   "metadata": {
    "collapsed": false
   },
   "outputs": [
    {
     "data": {
      "text/html": [
       "<table>\n",
       "<thead><tr><th scope=col>FFD</th><th scope=col>SPR</th><th scope=col>RGF</th><th scope=col>PLF</th></tr></thead>\n",
       "<tbody>\n",
       "\t<tr><td> 82  </td><td>1.468</td><td>3.30 </td><td>0.166</td></tr>\n",
       "\t<tr><td> 89  </td><td>1.605</td><td>3.64 </td><td>0.154</td></tr>\n",
       "\t<tr><td>101  </td><td>2.168</td><td>4.87 </td><td>0.177</td></tr>\n",
       "\t<tr><td>107  </td><td>2.054</td><td>4.72 </td><td>0.275</td></tr>\n",
       "\t<tr><td>115  </td><td>2.467</td><td>4.11 </td><td>0.298</td></tr>\n",
       "\t<tr><td>122  </td><td>1.294</td><td>3.75 </td><td>0.150</td></tr>\n",
       "\t<tr><td>127  </td><td>2.183</td><td>3.97 </td><td>0.000</td></tr>\n",
       "\t<tr><td>137  </td><td>2.426</td><td>4.65 </td><td>0.117</td></tr>\n",
       "\t<tr><td>147  </td><td>2.607</td><td>3.84 </td><td>0.155</td></tr>\n",
       "\t<tr><td>166  </td><td>4.567</td><td>4.92 </td><td>0.138</td></tr>\n",
       "\t<tr><td>174  </td><td>4.588</td><td>3.82 </td><td>0.249</td></tr>\n",
       "\t<tr><td>175  </td><td>3.618</td><td>4.32 </td><td>0.143</td></tr>\n",
       "\t<tr><td>177  </td><td>5.855</td><td>4.53 </td><td>0.172</td></tr>\n",
       "\t<tr><td>184  </td><td>2.898</td><td>4.48 </td><td>0.178</td></tr>\n",
       "\t<tr><td>187  </td><td>3.880</td><td>5.39 </td><td>0.101</td></tr>\n",
       "\t<tr><td>189  </td><td>0.455</td><td>4.99 </td><td>0.008</td></tr>\n",
       "\t<tr><td>194  </td><td>8.088</td><td>4.50 </td><td>0.251</td></tr>\n",
       "\t<tr><td>197  </td><td>6.502</td><td>5.20 </td><td>0.366</td></tr>\n",
       "\t<tr><td>201  </td><td>6.081</td><td>5.65 </td><td>0.106</td></tr>\n",
       "\t<tr><td>204  </td><td>7.105</td><td>5.40 </td><td>0.089</td></tr>\n",
       "\t<tr><td>255  </td><td>8.548</td><td>4.20 </td><td>0.222</td></tr>\n",
       "\t<tr><td>328  </td><td>6.321</td><td>6.45 </td><td>0.187</td></tr>\n",
       "</tbody>\n",
       "</table>\n"
      ],
      "text/latex": [
       "\\begin{tabular}{r|llll}\n",
       " FFD & SPR & RGF & PLF\\\\\n",
       "\\hline\n",
       "\t  82   & 1.468 & 3.30  & 0.166\\\\\n",
       "\t  89   & 1.605 & 3.64  & 0.154\\\\\n",
       "\t 101   & 2.168 & 4.87  & 0.177\\\\\n",
       "\t 107   & 2.054 & 4.72  & 0.275\\\\\n",
       "\t 115   & 2.467 & 4.11  & 0.298\\\\\n",
       "\t 122   & 1.294 & 3.75  & 0.150\\\\\n",
       "\t 127   & 2.183 & 3.97  & 0.000\\\\\n",
       "\t 137   & 2.426 & 4.65  & 0.117\\\\\n",
       "\t 147   & 2.607 & 3.84  & 0.155\\\\\n",
       "\t 166   & 4.567 & 4.92  & 0.138\\\\\n",
       "\t 174   & 4.588 & 3.82  & 0.249\\\\\n",
       "\t 175   & 3.618 & 4.32  & 0.143\\\\\n",
       "\t 177   & 5.855 & 4.53  & 0.172\\\\\n",
       "\t 184   & 2.898 & 4.48  & 0.178\\\\\n",
       "\t 187   & 3.880 & 5.39  & 0.101\\\\\n",
       "\t 189   & 0.455 & 4.99  & 0.008\\\\\n",
       "\t 194   & 8.088 & 4.50  & 0.251\\\\\n",
       "\t 197   & 6.502 & 5.20  & 0.366\\\\\n",
       "\t 201   & 6.081 & 5.65  & 0.106\\\\\n",
       "\t 204   & 7.105 & 5.40  & 0.089\\\\\n",
       "\t 255   & 8.548 & 4.20  & 0.222\\\\\n",
       "\t 328   & 6.321 & 6.45  & 0.187\\\\\n",
       "\\end{tabular}\n"
      ],
      "text/plain": [
       "   FFD SPR   RGF  PLF  \n",
       "1   82 1.468 3.30 0.166\n",
       "2   89 1.605 3.64 0.154\n",
       "3  101 2.168 4.87 0.177\n",
       "4  107 2.054 4.72 0.275\n",
       "5  115 2.467 4.11 0.298\n",
       "6  122 1.294 3.75 0.150\n",
       "7  127 2.183 3.97 0.000\n",
       "8  137 2.426 4.65 0.117\n",
       "9  147 2.607 3.84 0.155\n",
       "10 166 4.567 4.92 0.138\n",
       "11 174 4.588 3.82 0.249\n",
       "12 175 3.618 4.32 0.143\n",
       "13 177 5.855 4.53 0.172\n",
       "14 184 2.898 4.48 0.178\n",
       "15 187 3.880 5.39 0.101\n",
       "16 189 0.455 4.99 0.008\n",
       "17 194 8.088 4.50 0.251\n",
       "18 197 6.502 5.20 0.366\n",
       "19 201 6.081 5.65 0.106\n",
       "20 204 7.105 5.40 0.089\n",
       "21 255 8.548 4.20 0.222\n",
       "22 328 6.321 6.45 0.187"
      ]
     },
     "metadata": {},
     "output_type": "display_data"
    }
   ],
   "source": [
    "jet[,2:5]"
   ]
  },
  {
   "cell_type": "code",
   "execution_count": 5,
   "metadata": {
    "collapsed": false
   },
   "outputs": [
    {
     "data": {
      "text/html": [
       "<table>\n",
       "<thead><tr><th scope=col>FFD</th><th scope=col>SPR</th><th scope=col>RGF</th><th scope=col>PLF</th></tr></thead>\n",
       "<tbody>\n",
       "\t<tr><td>-1.479994999</td><td>-1.04614198 </td><td>-1.69627044 </td><td>-0.02622718 </td></tr>\n",
       "\t<tr><td>-1.357061218</td><td>-0.98826834 </td><td>-1.24473653 </td><td>-0.16470671 </td></tr>\n",
       "\t<tr><td>-1.146317594</td><td>-0.75043723 </td><td> 0.38875379 </td><td> 0.10071238 </td></tr>\n",
       "\t<tr><td>-1.040945781</td><td>-0.79859486 </td><td> 0.18954766 </td><td> 1.23162849 </td></tr>\n",
       "\t<tr><td>-0.900450032</td><td>-0.62412905 </td><td>-0.62055730 </td><td> 1.49704758 </td></tr>\n",
       "\t<tr><td>-0.777516251</td><td>-1.11964574 </td><td>-1.09865203 </td><td>-0.21086655 </td></tr>\n",
       "\t<tr><td>-0.689706407</td><td>-0.74410070 </td><td>-0.80648303 </td><td>-1.94186060 </td></tr>\n",
       "\t<tr><td>-0.514086720</td><td>-0.64144890 </td><td> 0.09658479 </td><td>-0.59168524 </td></tr>\n",
       "\t<tr><td>-0.338467033</td><td>-0.56498810 </td><td>-0.97912835 </td><td>-0.15316675 </td></tr>\n",
       "\t<tr><td>-0.004789628</td><td> 0.26298522 </td><td> 0.45515584 </td><td>-0.34934607 </td></tr>\n",
       "\t<tr><td> 0.135706122</td><td> 0.27185636 </td><td>-1.00568916 </td><td> 0.93158952 </td></tr>\n",
       "\t<tr><td> 0.153268091</td><td>-0.13790595 </td><td>-0.34166871 </td><td>-0.29164627 </td></tr>\n",
       "\t<tr><td> 0.188392028</td><td> 0.80708197 </td><td>-0.06278012 </td><td> 0.04301258 </td></tr>\n",
       "\t<tr><td> 0.311325809</td><td>-0.44205941 </td><td>-0.12918216 </td><td> 0.11225234 </td></tr>\n",
       "\t<tr><td> 0.364011715</td><td>-0.02722788 </td><td> 1.07933507 </td><td>-0.77632460 </td></tr>\n",
       "\t<tr><td> 0.399135652</td><td>-1.47406901 </td><td> 0.54811870 </td><td>-1.84954092 </td></tr>\n",
       "\t<tr><td> 0.486945496</td><td> 1.75038014 </td><td>-0.10262134 </td><td> 0.95466945 </td></tr>\n",
       "\t<tr><td> 0.539631402</td><td> 1.08039765 </td><td> 0.82700730 </td><td> 2.28176488 </td></tr>\n",
       "\t<tr><td> 0.609879277</td><td> 0.90255236 </td><td> 1.42462571 </td><td>-0.71862480 </td></tr>\n",
       "\t<tr><td> 0.662565183</td><td> 1.33512618 </td><td> 1.09261548 </td><td>-0.91480413 </td></tr>\n",
       "\t<tr><td> 1.558225587</td><td> 1.94470041 </td><td>-0.50103362 </td><td> 0.62001060 </td></tr>\n",
       "\t<tr><td> 2.840249302</td><td> 1.00393685 </td><td> 2.48705844 </td><td> 0.21611198 </td></tr>\n",
       "</tbody>\n",
       "</table>\n"
      ],
      "text/latex": [
       "\\begin{tabular}{llll}\n",
       " FFD & SPR & RGF & PLF\\\\\n",
       "\\hline\n",
       "\t -1.479994999 & -1.04614198  & -1.69627044  & -0.02622718 \\\\\n",
       "\t -1.357061218 & -0.98826834  & -1.24473653  & -0.16470671 \\\\\n",
       "\t -1.146317594 & -0.75043723  &  0.38875379  &  0.10071238 \\\\\n",
       "\t -1.040945781 & -0.79859486  &  0.18954766  &  1.23162849 \\\\\n",
       "\t -0.900450032 & -0.62412905  & -0.62055730  &  1.49704758 \\\\\n",
       "\t -0.777516251 & -1.11964574  & -1.09865203  & -0.21086655 \\\\\n",
       "\t -0.689706407 & -0.74410070  & -0.80648303  & -1.94186060 \\\\\n",
       "\t -0.514086720 & -0.64144890  &  0.09658479  & -0.59168524 \\\\\n",
       "\t -0.338467033 & -0.56498810  & -0.97912835  & -0.15316675 \\\\\n",
       "\t -0.004789628 &  0.26298522  &  0.45515584  & -0.34934607 \\\\\n",
       "\t  0.135706122 &  0.27185636  & -1.00568916  &  0.93158952 \\\\\n",
       "\t  0.153268091 & -0.13790595  & -0.34166871  & -0.29164627 \\\\\n",
       "\t  0.188392028 &  0.80708197  & -0.06278012  &  0.04301258 \\\\\n",
       "\t  0.311325809 & -0.44205941  & -0.12918216  &  0.11225234 \\\\\n",
       "\t  0.364011715 & -0.02722788  &  1.07933507  & -0.77632460 \\\\\n",
       "\t  0.399135652 & -1.47406901  &  0.54811870  & -1.84954092 \\\\\n",
       "\t  0.486945496 &  1.75038014  & -0.10262134  &  0.95466945 \\\\\n",
       "\t  0.539631402 &  1.08039765  &  0.82700730  &  2.28176488 \\\\\n",
       "\t  0.609879277 &  0.90255236  &  1.42462571  & -0.71862480 \\\\\n",
       "\t  0.662565183 &  1.33512618  &  1.09261548  & -0.91480413 \\\\\n",
       "\t  1.558225587 &  1.94470041  & -0.50103362  &  0.62001060 \\\\\n",
       "\t  2.840249302 &  1.00393685  &  2.48705844  &  0.21611198 \\\\\n",
       "\\end{tabular}\n"
      ],
      "text/markdown": [
       "1. -1.47999499900091\n",
       "2. -1.35706121806987\n",
       "3. -1.14631759361667\n",
       "4. -1.04094578139007\n",
       "5. -0.900450031754596\n",
       "6. -0.777516250823561\n",
       "7. -0.689706407301393\n",
       "8. -0.514086720257057\n",
       "9. -0.338467033212721\n",
       "10. -0.00478962782848203\n",
       "11. 0.135706121806987\n",
       "12. 0.15326809051142\n",
       "13. 0.188392027920288\n",
       "14. 0.311325808851323\n",
       "15. 0.364011714964624\n",
       "16. 0.399135652373491\n",
       "17. 0.486945495895659\n",
       "18. 0.53963140200896\n",
       "19. 0.609879276826694\n",
       "20. 0.662565182939995\n",
       "21. 1.55822558686611\n",
       "22. 2.84024930228976\n",
       "23. -1.04614198445006\n",
       "24. -0.988268339188643\n",
       "25. -0.750437227639903\n",
       "26. -0.798594859463271\n",
       "27. -0.624129052945279\n",
       "28. -1.11964573828573\n",
       "29. -0.744100697136828\n",
       "30. -0.641448902987017\n",
       "31. -0.564988101583248\n",
       "32. 0.262985217485188\n",
       "33. 0.271856360189493\n",
       "34. -0.137905945676009\n",
       "35. 0.807081970015875\n",
       "36. -0.442059409823598\n",
       "37. -0.0272278795556365\n",
       "38. -1.47406901109104\n",
       "39. 1.75038014424027\n",
       "40. 1.08039765238183\n",
       "41. 0.902552362928868\n",
       "42. 1.33512617860544\n",
       "43. 1.94470041300123\n",
       "44. 1.00393685097806\n",
       "45. -1.69627043980723\n",
       "46. -1.24473652913969\n",
       "47. 0.388753794745857\n",
       "48. 0.189547657686644\n",
       "49. -0.620557299687486\n",
       "50. -1.0986520286296\n",
       "51. -0.806483027609417\n",
       "52. 0.0965847937256794\n",
       "53. -0.979128346394069\n",
       "54. 0.455155840432261\n",
       "55. -1.00568916466863\n",
       "56. -0.341668707804588\n",
       "57. -0.0627801159216907\n",
       "58. -0.129182161608095\n",
       "59. 1.07933506988446\n",
       "60. 0.548118704393228\n",
       "61. -0.102621343333534\n",
       "62. 0.827007296276125\n",
       "63. 1.42462570745376\n",
       "64. 1.09261547902174\n",
       "65. -0.501033617451958\n",
       "66. 2.48705843843623\n",
       "67. -0.0262271825725887\n",
       "68. -0.164706706555858\n",
       "69. 0.100712381078741\n",
       "70. 1.23162849360878\n",
       "71. 1.49704758124337\n",
       "72. -0.210866547883615\n",
       "73. -1.94186059767448\n",
       "74. -0.591685238837605\n",
       "75. -0.153166746223919\n",
       "76. -0.349346071866884\n",
       "77. 0.931589524978358\n",
       "78. -0.291646270207189\n",
       "79. 0.0430125794190457\n",
       "80. 0.11225234141068\n",
       "81. -0.776324604148631\n",
       "82. -1.84954091501897\n",
       "83. 0.954669445642236\n",
       "84. 2.28176488381523\n",
       "85. -0.718624802488936\n",
       "86. -0.914804128131901\n",
       "87. 0.620010596016002\n",
       "88. 0.216111984398133\n",
       "\n",
       "\n"
      ],
      "text/plain": [
       "      FFD          SPR         RGF         PLF        \n",
       " [1,] -1.479994999 -1.04614198 -1.69627044 -0.02622718\n",
       " [2,] -1.357061218 -0.98826834 -1.24473653 -0.16470671\n",
       " [3,] -1.146317594 -0.75043723  0.38875379  0.10071238\n",
       " [4,] -1.040945781 -0.79859486  0.18954766  1.23162849\n",
       " [5,] -0.900450032 -0.62412905 -0.62055730  1.49704758\n",
       " [6,] -0.777516251 -1.11964574 -1.09865203 -0.21086655\n",
       " [7,] -0.689706407 -0.74410070 -0.80648303 -1.94186060\n",
       " [8,] -0.514086720 -0.64144890  0.09658479 -0.59168524\n",
       " [9,] -0.338467033 -0.56498810 -0.97912835 -0.15316675\n",
       "[10,] -0.004789628  0.26298522  0.45515584 -0.34934607\n",
       "[11,]  0.135706122  0.27185636 -1.00568916  0.93158952\n",
       "[12,]  0.153268091 -0.13790595 -0.34166871 -0.29164627\n",
       "[13,]  0.188392028  0.80708197 -0.06278012  0.04301258\n",
       "[14,]  0.311325809 -0.44205941 -0.12918216  0.11225234\n",
       "[15,]  0.364011715 -0.02722788  1.07933507 -0.77632460\n",
       "[16,]  0.399135652 -1.47406901  0.54811870 -1.84954092\n",
       "[17,]  0.486945496  1.75038014 -0.10262134  0.95466945\n",
       "[18,]  0.539631402  1.08039765  0.82700730  2.28176488\n",
       "[19,]  0.609879277  0.90255236  1.42462571 -0.71862480\n",
       "[20,]  0.662565183  1.33512618  1.09261548 -0.91480413\n",
       "[21,]  1.558225587  1.94470041 -0.50103362  0.62001060\n",
       "[22,]  2.840249302  1.00393685  2.48705844  0.21611198"
      ]
     },
     "metadata": {},
     "output_type": "display_data"
    }
   ],
   "source": [
    "jet_s <- scale(jet[,2:5])\n",
    "jet_s"
   ]
  },
  {
   "cell_type": "code",
   "execution_count": 6,
   "metadata": {
    "collapsed": false
   },
   "outputs": [
    {
     "data": {
      "text/plain": [
       "            1          2          3          4          5          6          7\n",
       "2   0.7708209                                                                  \n",
       "3   2.8413460  2.3474841                                                       \n",
       "4   3.8302701  3.3364083  1.4836517                                            \n",
       "5   3.6005458  3.1066840  2.7778220  1.3904856                                 \n",
       "6   1.5582403  0.9031667  2.5369946  3.3151751  2.8044593                      \n",
       "7   3.8977507  3.1269298  3.7007575  4.5752533  3.9555492  2.4865179           \n",
       "8   3.7289147  2.9580938  1.7257858  2.6002816  3.2095581  2.3176819  2.5315147\n",
       "9   2.4667635  1.7190226  2.6150610  3.4895567  2.6299093  1.1709303  2.4916911\n",
       "10  5.2588777  4.4880569  2.6714109  3.9443190  4.7048815  3.8476450  4.5461561\n",
       "11  4.5820974  4.0882356  4.5296374  3.7423789  2.8827315  3.5401434  4.9140258\n",
       "12  4.1615199  3.3906991  3.0348981  3.9093939  3.6075237  2.7502872  3.5641979\n",
       "13  5.2243411  4.7304793  3.4014625  4.2759583  4.5318653  4.1823870  5.1578572\n",
       "14  4.1009712  3.6071094  2.2954971  3.1469130  3.2700159  3.0590171  4.0344873\n",
       "15  6.3886238  5.6178029  3.8011569  5.0740650  5.8346275  4.9773910  4.8219450\n",
       "16  6.3747606  5.7196870  4.3787032  5.5552960  6.6647901  4.8165203  3.2657318\n",
       "17  7.3380083  6.8441465  5.4794127  4.6459943  4.8222188  6.2960543  7.2715245\n",
       "18  8.9774358  8.4835740  6.1360899  5.1471657  5.3768900  7.9354818  8.9109520\n",
       "19  7.8518624  7.0810415  5.2643956  6.5373036  7.2978661  6.4406296  6.4005833\n",
       "20  8.2012912  7.4304703  5.6138244  6.8867324  7.6472949  6.7900584  6.3576534\n",
       "21  7.8705376  7.3766758  6.8087664  6.6446658  6.0240658  6.8285835  7.8040537\n",
       "22 10.7959912 10.3021294  7.9546452  8.9967541  9.7573166  9.7540371 10.7295073\n",
       "            8          9         10         11         12         13         14\n",
       "2                                                                              \n",
       "3                                                                              \n",
       "4                                                                              \n",
       "5                                                                              \n",
       "6                                                                              \n",
       "7                                                                              \n",
       "8                                                                              \n",
       "9   1.7663121                                                                  \n",
       "10  2.0146414  2.7921142                                                       \n",
       "11  4.1886468  2.4223347  2.8911475                                            \n",
       "12  1.9091902  1.6947564  1.4134732  2.3145805                                 \n",
       "13  2.9450723  3.0114567  1.6475730  2.4193975  1.5936593                      \n",
       "14  1.9545066  1.8880868  2.0670965  2.5853796  1.0785963  1.5077170           \n",
       "15  2.6597091  3.9218602  1.7101722  4.3203282  2.2271038  2.9713819  2.5646116\n",
       "16  3.4552321  4.8703048  3.7341372  6.3442932  4.0297127  4.9953469  3.7589136\n",
       "17  5.1384221  5.1251240  3.8409228  2.7559109  3.7073266  2.1933497  3.2370372\n",
       "18  6.3794373  6.7645515  4.3647959  4.3953384  5.3467541  3.7530948  4.8764647\n",
       "19  4.1229477  5.3850989  2.5929846  5.1853984  3.6903424  2.7660008  4.0278503\n",
       "20  4.4723766  5.7345277  2.9424135  5.5348272  4.0397713  3.1154297  4.3772791\n",
       "21  6.4677759  5.6576532  5.1702765  3.9115980  4.5585856  3.5227035  4.5132693\n",
       "22  8.1979926  8.5831068  6.1833512  7.6448488  7.1653094  5.5716501  6.6950200\n",
       "           15         16         17         18         19         20         21\n",
       "2                                                                              \n",
       "3                                                                              \n",
       "4                                                                              \n",
       "5                                                                              \n",
       "6                                                                              \n",
       "7                                                                              \n",
       "8                                                                              \n",
       "9                                                                              \n",
       "10                                                                             \n",
       "11                                                                             \n",
       "12                                                                             \n",
       "13                                                                             \n",
       "14                                                                             \n",
       "15                                                                             \n",
       "16  3.0863977                                                                  \n",
       "17  4.8134923  6.7672094                                                       \n",
       "18  4.5936625  7.1051568  2.9793925                                            \n",
       "19  1.5786382  4.5947881  4.1713029  3.8461013                                 \n",
       "20  1.8126675  4.5518583  3.6555840  3.8398395  1.0134493                      \n",
       "21  6.1428461  8.0965632  1.9986715  4.8726921  5.2547891  4.6336985           \n",
       "22  5.9075623  8.9237121  6.4279843  6.1027827  4.3289240  5.0342325  5.6147779"
      ]
     },
     "metadata": {},
     "output_type": "display_data"
    }
   ],
   "source": [
    "dist(jet_s, method=\"manhattan\")"
   ]
  },
  {
   "cell_type": "code",
   "execution_count": 7,
   "metadata": {
    "collapsed": false
   },
   "outputs": [
    {
     "data": {
      "text/html": [
       "<ol class=list-inline>\n",
       "\t<li>3.07245173698618</li>\n",
       "\t<li>2.05582393962746</li>\n",
       "\t<li>4.09163287201283</li>\n",
       "\t<li>5.07249202571383</li>\n",
       "\t<li>3.67975564093018</li>\n",
       "\t<li>2.03167333102758</li>\n",
       "\t<li>4.91872943223043</li>\n",
       "\t<li>0.914277523415543</li>\n",
       "\t<li>1.51093792246247</li>\n",
       "\t<li>0.890525952309443</li>\n",
       "\t<li>2.94233145518048</li>\n",
       "\t<li>0.63334929785139</li>\n",
       "\t<li>1.21989999694935</li>\n",
       "\t<li>1.68307680099927</li>\n",
       "\t<li>1.86394110583986</li>\n",
       "\t<li>7.37032472641706</li>\n",
       "\t<li>4.50021662964561</li>\n",
       "\t<li>6.25870589684374</li>\n",
       "\t<li>4.05987110679419</li>\n",
       "\t<li>5.54472240741847</li>\n",
       "\t<li>8.04264535265943</li>\n",
       "\t<li>11.6426148466852</li>\n",
       "</ol>\n"
      ],
      "text/latex": [
       "\\begin{enumerate*}\n",
       "\\item 3.07245173698618\n",
       "\\item 2.05582393962746\n",
       "\\item 4.09163287201283\n",
       "\\item 5.07249202571383\n",
       "\\item 3.67975564093018\n",
       "\\item 2.03167333102758\n",
       "\\item 4.91872943223043\n",
       "\\item 0.914277523415543\n",
       "\\item 1.51093792246247\n",
       "\\item 0.890525952309443\n",
       "\\item 2.94233145518048\n",
       "\\item 0.63334929785139\n",
       "\\item 1.21989999694935\n",
       "\\item 1.68307680099927\n",
       "\\item 1.86394110583986\n",
       "\\item 7.37032472641706\n",
       "\\item 4.50021662964561\n",
       "\\item 6.25870589684374\n",
       "\\item 4.05987110679419\n",
       "\\item 5.54472240741847\n",
       "\\item 8.04264535265943\n",
       "\\item 11.6426148466852\n",
       "\\end{enumerate*}\n"
      ],
      "text/markdown": [
       "1. 3.07245173698618\n",
       "2. 2.05582393962746\n",
       "3. 4.09163287201283\n",
       "4. 5.07249202571383\n",
       "5. 3.67975564093018\n",
       "6. 2.03167333102758\n",
       "7. 4.91872943223043\n",
       "8. 0.914277523415543\n",
       "9. 1.51093792246247\n",
       "10. 0.890525952309443\n",
       "11. 2.94233145518048\n",
       "12. 0.63334929785139\n",
       "13. 1.21989999694935\n",
       "14. 1.68307680099927\n",
       "15. 1.86394110583986\n",
       "16. 7.37032472641706\n",
       "17. 4.50021662964561\n",
       "18. 6.25870589684374\n",
       "19. 4.05987110679419\n",
       "20. 5.54472240741847\n",
       "21. 8.04264535265943\n",
       "22. 11.6426148466852\n",
       "\n",
       "\n"
      ],
      "text/plain": [
       " [1]  3.0724517  2.0558239  4.0916329  5.0724920  3.6797556  2.0316733\n",
       " [7]  4.9187294  0.9142775  1.5109379  0.8905260  2.9423315  0.6333493\n",
       "[13]  1.2199000  1.6830768  1.8639411  7.3703247  4.5002166  6.2587059\n",
       "[19]  4.0598711  5.5447224  8.0426454 11.6426148"
      ]
     },
     "metadata": {},
     "output_type": "display_data"
    }
   ],
   "source": [
    "mahalanobis(jet_s,colMeans(jet_s), cov(jet_s))"
   ]
  },
  {
   "cell_type": "code",
   "execution_count": 8,
   "metadata": {
    "collapsed": false
   },
   "outputs": [
    {
     "data": {
      "image/png": "[encoded data removed]",
      "text/plain": [
       "Plot with title \"Cluster Dendrogram\""
      ]
     },
     "metadata": {},
     "output_type": "display_data"
    }
   ],
   "source": [
    "hcjet1=hclust(dist(jet_s, method=\"euclidean\"),method=\"single\")\n",
    "plot(hcjet1)"
   ]
  },
  {
   "cell_type": "code",
   "execution_count": 9,
   "metadata": {
    "collapsed": false
   },
   "outputs": [
    {
     "data": {
      "image/png": "[encoded data removed]",
      "text/plain": [
       "Plot with title \"Cluster Dendrogram\""
      ]
     },
     "metadata": {},
     "output_type": "display_data"
    }
   ],
   "source": [
    "hcjet2=hclust(dist(jet_s, method=\"euclidean\"),method=\"complete\")\n",
    "plot(hcjet2)"
   ]
  },
  {
   "cell_type": "code",
   "execution_count": 10,
   "metadata": {
    "collapsed": false
   },
   "outputs": [
    {
     "data": {
      "image/png": "[encoded data removed]",
      "text/plain": [
       "Plot with title \"Cluster Dendrogram\""
      ]
     },
     "metadata": {},
     "output_type": "display_data"
    }
   ],
   "source": [
    "hcjet3=hclust(dist(jet_s, method=\"euclidean\"),method=\"average\")\n",
    "plot(hcjet3)"
   ]
  },
  {
   "cell_type": "code",
   "execution_count": 12,
   "metadata": {
    "collapsed": false
   },
   "outputs": [
    {
     "data": {
      "text/html": [
       "<ol class=list-inline>\n",
       "\t<li>1</li>\n",
       "\t<li>1</li>\n",
       "\t<li>1</li>\n",
       "\t<li>1</li>\n",
       "\t<li>1</li>\n",
       "\t<li>1</li>\n",
       "\t<li>2</li>\n",
       "\t<li>1</li>\n",
       "\t<li>1</li>\n",
       "\t<li>1</li>\n",
       "\t<li>1</li>\n",
       "\t<li>1</li>\n",
       "\t<li>1</li>\n",
       "\t<li>1</li>\n",
       "\t<li>3</li>\n",
       "\t<li>2</li>\n",
       "\t<li>4</li>\n",
       "\t<li>4</li>\n",
       "\t<li>3</li>\n",
       "\t<li>3</li>\n",
       "\t<li>4</li>\n",
       "\t<li>5</li>\n",
       "</ol>\n"
      ],
      "text/latex": [
       "\\begin{enumerate*}\n",
       "\\item 1\n",
       "\\item 1\n",
       "\\item 1\n",
       "\\item 1\n",
       "\\item 1\n",
       "\\item 1\n",
       "\\item 2\n",
       "\\item 1\n",
       "\\item 1\n",
       "\\item 1\n",
       "\\item 1\n",
       "\\item 1\n",
       "\\item 1\n",
       "\\item 1\n",
       "\\item 3\n",
       "\\item 2\n",
       "\\item 4\n",
       "\\item 4\n",
       "\\item 3\n",
       "\\item 3\n",
       "\\item 4\n",
       "\\item 5\n",
       "\\end{enumerate*}\n"
      ],
      "text/markdown": [
       "1. 1\n",
       "2. 1\n",
       "3. 1\n",
       "4. 1\n",
       "5. 1\n",
       "6. 1\n",
       "7. 2\n",
       "8. 1\n",
       "9. 1\n",
       "10. 1\n",
       "11. 1\n",
       "12. 1\n",
       "13. 1\n",
       "14. 1\n",
       "15. 3\n",
       "16. 2\n",
       "17. 4\n",
       "18. 4\n",
       "19. 3\n",
       "20. 3\n",
       "21. 4\n",
       "22. 5\n",
       "\n",
       "\n"
      ],
      "text/plain": [
       " [1] 1 1 1 1 1 1 2 1 1 1 1 1 1 1 3 2 4 4 3 3 4 5"
      ]
     },
     "metadata": {},
     "output_type": "display_data"
    }
   ],
   "source": [
    "hcjet3_result=cutree(hcjet3,k=5)\n",
    "hcjet3_result"
   ]
  },
  {
   "cell_type": "code",
   "execution_count": null,
   "metadata": {
    "collapsed": true
   },
   "outputs": [],
   "source": []
  }
 ],
 "metadata": {
  "anaconda-cloud": {},
  "kernelspec": {
   "display_name": "R 3.3",
   "language": "R",
   "name": "ir33"
  },
  "language_info": {
   "codemirror_mode": "r",
   "file_extension": ".r",
   "mimetype": "text/x-r-source",
   "name": "R",
   "pygments_lexer": "r",
   "version": "3.3.1"
  }
 },
 "nbformat": 4,
 "nbformat_minor": 0
}
